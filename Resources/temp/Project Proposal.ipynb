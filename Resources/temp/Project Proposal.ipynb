{
 "cells": [
  {
   "cell_type": "markdown",
   "metadata": {},
   "source": [
    "# Project 1 Proposal\n"
   ]
  },
  {
   "cell_type": "markdown",
   "metadata": {},
   "source": [
    "# Project Title: \n",
    "FOMO or fundamentals? An Analysis of Jim Cramer Buy/Sell Recommendations"
   ]
  },
  {
   "cell_type": "markdown",
   "metadata": {},
   "source": [
    "# Team Members: \n",
    "Matt Blair, Brian Dunfrund, Jeremy Valentini, Andrew Douse"
   ]
  },
  {
   "cell_type": "markdown",
   "metadata": {},
   "source": [
    "# Project Description/Outline: \n",
    "We will be reviewing and analyzing 20 of the buy recommendations made by Jim Cramer on his TV show."
   ]
  },
  {
   "cell_type": "markdown",
   "metadata": {},
   "source": [
    "# Research Questions to Answer: \n",
    "How have Cramer's recommendations performed over 1 day, 1 week, 1 month, and 1 year since making recommendation?\n",
    "\n",
    "Are his recommendations in specific sectors better than others?\n",
    "\n",
    "What is the performance of his most recommended stocks?\n",
    "\n",
    "How do his recommendations compare to the S&P 500?\n",
    "\n",
    "Does market cap size matter in his recommendations performance?"
   ]
  },
  {
   "cell_type": "markdown",
   "metadata": {},
   "source": [
    "# Datasets to be used: \n",
    "Stock data, recommendation data from his Mad Money screener"
   ]
  },
  {
   "cell_type": "markdown",
   "metadata": {},
   "source": [
    "# Rough Breakdown of tasks:\n",
    "1 day data analysis will be done by Brian\n",
    "\n",
    "1 week data analysis will be done by Matt\n",
    "\n",
    "1 month data analysis will be done by Andrew\n",
    "\n",
    "1 year data analysis will be done by Jeremy"
   ]
  },
  {
   "cell_type": "code",
   "execution_count": null,
   "metadata": {},
   "outputs": [],
   "source": []
  }
 ],
 "metadata": {
  "kernelspec": {
   "display_name": "Python 3",
   "language": "python",
   "name": "python3"
  },
  "language_info": {
   "codemirror_mode": {
    "name": "ipython",
    "version": 3
   },
   "file_extension": ".py",
   "mimetype": "text/x-python",
   "name": "python",
   "nbconvert_exporter": "python",
   "pygments_lexer": "ipython3",
   "version": "3.7.9"
  }
 },
 "nbformat": 4,
 "nbformat_minor": 5
}
